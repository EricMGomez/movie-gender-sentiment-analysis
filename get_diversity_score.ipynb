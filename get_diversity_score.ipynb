{
 "cells": [
  {
   "cell_type": "code",
   "execution_count": 14,
   "metadata": {},
   "outputs": [
    {
     "data": {
      "text/html": [
       "<div>\n",
       "<style scoped>\n",
       "    .dataframe tbody tr th:only-of-type {\n",
       "        vertical-align: middle;\n",
       "    }\n",
       "\n",
       "    .dataframe tbody tr th {\n",
       "        vertical-align: top;\n",
       "    }\n",
       "\n",
       "    .dataframe thead th {\n",
       "        text-align: right;\n",
       "    }\n",
       "</style>\n",
       "<table border=\"1\" class=\"dataframe\">\n",
       "  <thead>\n",
       "    <tr style=\"text-align: right;\">\n",
       "      <th></th>\n",
       "      <th>movie_id</th>\n",
       "      <th>title</th>\n",
       "      <th>cast</th>\n",
       "      <th>crew</th>\n",
       "    </tr>\n",
       "  </thead>\n",
       "  <tbody>\n",
       "    <tr>\n",
       "      <th>0</th>\n",
       "      <td>19995</td>\n",
       "      <td>Avatar</td>\n",
       "      <td>[{\"cast_id\": 242, \"character\": \"Jake Sully\", \"...</td>\n",
       "      <td>[{\"credit_id\": \"52fe48009251416c750aca23\", \"de...</td>\n",
       "    </tr>\n",
       "    <tr>\n",
       "      <th>1</th>\n",
       "      <td>285</td>\n",
       "      <td>Pirates of the Caribbean: At World's End</td>\n",
       "      <td>[{\"cast_id\": 4, \"character\": \"Captain Jack Spa...</td>\n",
       "      <td>[{\"credit_id\": \"52fe4232c3a36847f800b579\", \"de...</td>\n",
       "    </tr>\n",
       "    <tr>\n",
       "      <th>2</th>\n",
       "      <td>206647</td>\n",
       "      <td>Spectre</td>\n",
       "      <td>[{\"cast_id\": 1, \"character\": \"James Bond\", \"cr...</td>\n",
       "      <td>[{\"credit_id\": \"54805967c3a36829b5002c41\", \"de...</td>\n",
       "    </tr>\n",
       "    <tr>\n",
       "      <th>3</th>\n",
       "      <td>49026</td>\n",
       "      <td>The Dark Knight Rises</td>\n",
       "      <td>[{\"cast_id\": 2, \"character\": \"Bruce Wayne / Ba...</td>\n",
       "      <td>[{\"credit_id\": \"52fe4781c3a36847f81398c3\", \"de...</td>\n",
       "    </tr>\n",
       "    <tr>\n",
       "      <th>4</th>\n",
       "      <td>49529</td>\n",
       "      <td>John Carter</td>\n",
       "      <td>[{\"cast_id\": 5, \"character\": \"John Carter\", \"c...</td>\n",
       "      <td>[{\"credit_id\": \"52fe479ac3a36847f813eaa3\", \"de...</td>\n",
       "    </tr>\n",
       "  </tbody>\n",
       "</table>\n",
       "</div>"
      ],
      "text/plain": [
       "   movie_id                                     title  \\\n",
       "0     19995                                    Avatar   \n",
       "1       285  Pirates of the Caribbean: At World's End   \n",
       "2    206647                                   Spectre   \n",
       "3     49026                     The Dark Knight Rises   \n",
       "4     49529                               John Carter   \n",
       "\n",
       "                                                cast  \\\n",
       "0  [{\"cast_id\": 242, \"character\": \"Jake Sully\", \"...   \n",
       "1  [{\"cast_id\": 4, \"character\": \"Captain Jack Spa...   \n",
       "2  [{\"cast_id\": 1, \"character\": \"James Bond\", \"cr...   \n",
       "3  [{\"cast_id\": 2, \"character\": \"Bruce Wayne / Ba...   \n",
       "4  [{\"cast_id\": 5, \"character\": \"John Carter\", \"c...   \n",
       "\n",
       "                                                crew  \n",
       "0  [{\"credit_id\": \"52fe48009251416c750aca23\", \"de...  \n",
       "1  [{\"credit_id\": \"52fe4232c3a36847f800b579\", \"de...  \n",
       "2  [{\"credit_id\": \"54805967c3a36829b5002c41\", \"de...  \n",
       "3  [{\"credit_id\": \"52fe4781c3a36847f81398c3\", \"de...  \n",
       "4  [{\"credit_id\": \"52fe479ac3a36847f813eaa3\", \"de...  "
      ]
     },
     "execution_count": 14,
     "metadata": {},
     "output_type": "execute_result"
    }
   ],
   "source": [
    "import pandas as pd\n",
    "import numpy as np\n",
    "import json\n",
    "import matplotlib\n",
    "import matplotlib.pyplot as plt\n",
    "\n",
    "#load dataset\n",
    "df = pd.read_csv('raw_data/tmdb_5000_credits.csv')\n",
    "df.head() #view data"
   ]
  },
  {
   "cell_type": "code",
   "execution_count": 98,
   "metadata": {},
   "outputs": [
    {
     "name": "stderr",
     "output_type": "stream",
     "text": [
      "/anaconda3/lib/python3.6/site-packages/ipykernel_launcher.py:27: RuntimeWarning: invalid value encountered in double_scalars\n"
     ]
    }
   ],
   "source": [
    "score = np.zeros(len(df.index)) #initalize scores\n",
    "g =[0]*len(df.index) #initialize gender list for all movies\n",
    "for m in df.index: #loop over all movies\n",
    "    m_all = True #debug boolean\n",
    "    #extract movie\n",
    "    cast = json.loads(df['cast'][m]) #extract cast from dataset\n",
    "    n = len(cast) #number of cast members\n",
    "    gendernos = np.zeros(n)\n",
    "    if n == 0 or n == []: #no cast listed\n",
    "        score[m] = np.nan #nan for no cast\n",
    "        m_all = False #debug boolean\n",
    "    else:\n",
    "        #asymmetrical sigmoidal curve fit from https://mycurvefit.com/\n",
    "        weights = [ 0.00557557 + (1.002644 - 0.00557557)/(1 + (x/1.794024)**8.661941)**0.5556762\n",
    "               for x in np.linspace(1,10,20)] #weight lead roles more (up to 20 roles)\n",
    "        if n > 20: #more than 20 memebrs in cast\n",
    "            ind = range(0,20)\n",
    "        else: #less than 20 members in cast\n",
    "            ind = range(0,n)\n",
    "        for c in ind: #loop over all cast members\n",
    "            gendernos[c] = cast[c]['gender']\n",
    "            if cast[c]['gender'] == 1: #female\n",
    "                score[m] = score[m] + weights[c] #female cast members boost score\n",
    "                m_all = False #debug boolean\n",
    "            elif cast[c]['gender'] != 2: #not female nor male gender number\n",
    "                weights[c] = 0; #discount entry\n",
    "        score[m] = score[m]/sum(weights[:c+1]) #take the weighted average of the score\n",
    "        g[m] = gendernos #store gender numbers into gender list\n",
    "        if score[m] == np.inf:\n",
    "            score[m] = np.nan\n",
    "            m_all = False #debug boolean\n",
    "    #DEBUGGING ONLY\n",
    "    #if m_all:\n",
    "         #score[m] = -1"
   ]
  },
  {
   "cell_type": "code",
   "execution_count": 99,
   "metadata": {},
   "outputs": [
    {
     "data": {
      "text/plain": [
       "4717"
      ]
     },
     "execution_count": 99,
     "metadata": {},
     "output_type": "execute_result"
    }
   ],
   "source": [
    "#extract nan values to find real score\n",
    "score_real = score[np.argwhere(~np.isnan(score))]\n",
    "len(score_real) #check size of real values"
   ]
  },
  {
   "cell_type": "code",
   "execution_count": 121,
   "metadata": {},
   "outputs": [
    {
     "data": {
      "text/plain": [
       "<matplotlib.lines.Line2D at 0x120d930b8>"
      ]
     },
     "execution_count": 121,
     "metadata": {},
     "output_type": "execute_result"
    },
    {
     "data": {
      "image/png": "[encoded data removed]",
      "text/plain": [
       "<matplotlib.figure.Figure at 0x1209a4a58>"
      ]
     },
     "metadata": {},
     "output_type": "display_data"
    }
   ],
   "source": [
    "#plot results\n",
    "n_bins = 20\n",
    "fig, ax = plt.subplots()\n",
    "n, bins, patches = plt.hist(score_real, bins=n_bins, alpha=0.35, edgecolor='k')\n",
    "ax.set(xlabel='gender diversity score', ylabel='number of movies',\n",
    "       title='Histogram of Gender Diversity Score')\n",
    "ax.grid()\n",
    "plt.axvline(score_real.mean(), color='r', linestyle='dashed', linewidth=1)\n",
    "plt.axvline(np.percentile(score_real,50), color='k', linestyle='dashed', linewidth=1)\n",
    "#plt.axvline(np.percentile(score_real,25), color='r', linestyle='dashed', linewidth=1)\n",
    "#plt.axvline(np.percentile(score_real,75), color='r', linestyle='dashed', linewidth=1)\n",
    "plt.axvline(np.percentile(score_real,90), color='k', linestyle='dashed', linewidth=1)\n",
    "plt.axvline(np.percentile(score_real,10), color='k', linestyle='dashed', linewidth=1)\n"
   ]
  }
 ],
 "metadata": {
  "kernelspec": {
   "display_name": "Python 3",
   "language": "python",
   "name": "python3"
  },
  "language_info": {
   "codemirror_mode": {
    "name": "ipython",
    "version": 3
   },
   "file_extension": ".py",
   "mimetype": "text/x-python",
   "name": "python",
   "nbconvert_exporter": "python",
   "pygments_lexer": "ipython3",
   "version": "3.6.4"
  }
 },
 "nbformat": 4,
 "nbformat_minor": 2
}
