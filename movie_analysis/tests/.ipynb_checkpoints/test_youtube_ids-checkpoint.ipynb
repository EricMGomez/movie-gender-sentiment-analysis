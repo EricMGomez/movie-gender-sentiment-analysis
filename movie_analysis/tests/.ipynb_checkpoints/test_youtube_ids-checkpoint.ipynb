{
 "cells": [
  {
   "cell_type": "code",
   "execution_count": 9,
   "metadata": {},
   "outputs": [
    {
     "ename": "ModuleNotFoundError",
     "evalue": "No module named 'movie_analysis'",
     "output_type": "error",
     "traceback": [
      "\u001b[0;31m---------------------------------------------------------------------------\u001b[0m",
      "\u001b[0;31mModuleNotFoundError\u001b[0m                       Traceback (most recent call last)",
      "\u001b[0;32m<ipython-input-9-27099ed99dcb>\u001b[0m in \u001b[0;36m<module>\u001b[0;34m\u001b[0m\n\u001b[1;32m      7\u001b[0m \u001b[0;32mimport\u001b[0m \u001b[0mpandas\u001b[0m \u001b[0;32mas\u001b[0m \u001b[0mpd\u001b[0m\u001b[0;34m\u001b[0m\u001b[0;34m\u001b[0m\u001b[0m\n\u001b[1;32m      8\u001b[0m \u001b[0;32mimport\u001b[0m \u001b[0mnumpy\u001b[0m \u001b[0;32mas\u001b[0m \u001b[0mnp\u001b[0m\u001b[0;34m\u001b[0m\u001b[0;34m\u001b[0m\u001b[0m\n\u001b[0;32m----> 9\u001b[0;31m \u001b[0;32mfrom\u001b[0m \u001b[0mmovie_analysis\u001b[0m \u001b[0;32mimport\u001b[0m \u001b[0mget_youtube_url\u001b[0m\u001b[0;34m\u001b[0m\u001b[0;34m\u001b[0m\u001b[0m\n\u001b[0m\u001b[1;32m     10\u001b[0m \u001b[0;32mfrom\u001b[0m \u001b[0mmovie_analysis\u001b[0m \u001b[0;32mimport\u001b[0m \u001b[0mget_youtube_video_ids\u001b[0m\u001b[0;34m\u001b[0m\u001b[0;34m\u001b[0m\u001b[0m\n\u001b[1;32m     11\u001b[0m \u001b[0;34m\u001b[0m\u001b[0m\n",
      "\u001b[0;31mModuleNotFoundError\u001b[0m: No module named 'movie_analysis'"
     ]
    }
   ],
   "source": [
    "\"\"\"This module runs unit tests over functions in get_youtube_url.ph \n",
    "and get_youtube_video_ids.py.\n",
    "\"\"\"\n",
    "import os.path\n",
    "import unittest\n",
    "import pandas as pd\n",
    "import numpy as np\n",
    "from movie_analysis import get_youtube_url \n",
    "from movie_analysis import get_youtube_video_ids \n",
    "\n",
    "class TestYoutubeModules(unittest.TestCase):\n",
    "    \"\"\"This class runs unit tests over functions in the modules used to\n",
    "    extract Youtube video ids.\n",
    "    \"\"\"\n",
    "    # smoke test to check result of a single movie\n",
    "    def test_single_movie(self):\n",
    "        \"\"\"This function tests if the url returned by get_youtube_url \n",
    "        is correct for the movie \"Boy Erased\"\n",
    "        \"\"\"\n",
    "        test_movie = \"Boy Erased\"\n",
    "        correct_url = \"https://www.youtube.com/watch?v=-B71eyB_Onw\"\n",
    "        test_url = get_youtube_url.get_youtube_url(test_movie)\n",
    "        self.assertEqual(test_url, correct_url)\n",
    "        \n",
    "    def test_columns(self):\n",
    "        \"\"\" This function tests to make sure  new columns are added. \n",
    "        \"\"\"\n",
    "        df_subset = pd.read_csv('data/imdb_subset_100_10strats')\n",
    "        df_test = get_youtube_video_ids(df_subset)\n",
    "        self.AssertGreater(len(df_test.columns), len(df_subset.columns))\n",
    "             \n",
    "        \n",
    "if __name__ == '__main__':\n",
    "    unittest.main()\n",
    "        \n",
    "        \n",
    "      "
   ]
  },
  {
   "cell_type": "code",
   "execution_count": null,
   "metadata": {},
   "outputs": [],
   "source": []
  }
 ],
 "metadata": {
  "kernelspec": {
   "display_name": "Python 3",
   "language": "python",
   "name": "python3"
  },
  "language_info": {
   "codemirror_mode": {
    "name": "ipython",
    "version": 3
   },
   "file_extension": ".py",
   "mimetype": "text/x-python",
   "name": "python",
   "nbconvert_exporter": "python",
   "pygments_lexer": "ipython3",
   "version": "3.6.7"
  }
 },
 "nbformat": 4,
 "nbformat_minor": 2
}
