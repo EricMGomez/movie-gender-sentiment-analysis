{
 "cells": [
  {
   "cell_type": "code",
   "execution_count": null,
   "metadata": {},
   "outputs": [],
   "source": [
    "import pandas as pd\n",
    "import numpy as np\n",
    "import json\n",
    "import matplotlib\n",
    "import matplotlib.pyplot as plt\n",
    "\n",
    "#calculate diversity score for a single movie\n",
    "def compute_diversity_score(cast,wanttoweight):\n",
    "    castsize = len(cast) #number of cast members\n",
    "    if castsize == 0 or castsize == []: #no cast listed\n",
    "        score = np.nan #nan for no cast\n",
    "    else:\n",
    "        if wanttoweight:\n",
    "            #asymmetrical sigmoidal curve fit from https://mycurvefit.com/\n",
    "            weights = [ 0.00557557 + (1.002644 - 0.00557557)/(1 + (x/1.794024)**8.661941)**0.5556762\n",
    "               for x in np.linspace(1,10,20)] #weight lead roles more (up to 20 roles)\n",
    "        else:\n",
    "            weights = np.ones(20)\n",
    "        if castsize > 20: #more than 20 memebrs in cast\n",
    "            ind = range(0,20)\n",
    "        else: #less than 20 members in cast\n",
    "            ind = range(0,castsize[m])\n",
    "        for c in ind: #loop over all cast members\n",
    "            if cast[c]['gender'] == 1: #female\n",
    "                score = score + weights[c] #female cast members boost score\n",
    "                m_all = False #debug boolean\n",
    "            elif cast[c]['gender'] != 2: #not female nor male gender number\n",
    "                weights[c] = 0; #discount entry\n",
    "        score = score/sum(weights[:c+1]) #take the weighted average of the score\n",
    "        if score == np.inf:\n",
    "            score = np.nan\n",
    "    return score\n",
    "    return castsize\n",
    "\n",
    "#visualize \n",
    "def viz_distribution(data,n_bins=20,type):\n",
    "    n_bins = 20\n",
    "    fig, ax = plt.subplots()    \n",
    "    if type == 'diversity score':\n",
    "        n, bins, patches = plt.hist(data, bins=n_bins, alpha=0.35, edgecolor='k')\n",
    "        ax.set(xlabel='gender diversity score', ylabel='number of movies',\n",
    "               title='Histogram of Gender Diversity Score')\n",
    "    elif type == 'cast size\n",
    "        binwidth =10\n",
    "        n_bins = range(0, int(10*np.floor(max(castsizes_real)/10)) + binwidth, binwidth)\n",
    "        ax.set(xlabel='cast size', ylabel='number of movies',\n",
    "               title='Histogram of Cast Size')'\n",
    "    ax.grid()\n",
    "    mean = plt.axvline(score_real.mean(), color='r', linestyle='dashed', linewidth=1)\n",
    "    median = plt.axvline(np.percentile(score_real,50), color='k', linestyle='dashed', linewidth=1)\n",
    "    #plt.axvline(np.percentile(score_real,25), color='r', linestyle='dashed', linewidth=1)\n",
    "    #plt.axvline(np.percentile(score_real,75), color='r', linestyle='dashed', linewidth=1)\n",
    "    ninety = plt.axvline(np.percentile(score_real,90), color='k', linestyle='dashed', linewidth=1)\n",
    "    ten = plt.axvline(np.percentile(score_real,10), color='k', linestyle='dashed', linewidth=1)\n",
    "    ax.legend((mean, median, ninety, ten), ('mean','median','90%','10%'))"
   ]
  }
 ],
 "metadata": {
  "kernelspec": {
   "display_name": "Python 3",
   "language": "python",
   "name": "python3"
  },
  "language_info": {
   "codemirror_mode": {
    "name": "ipython",
    "version": 3
   },
   "file_extension": ".py",
   "mimetype": "text/x-python",
   "name": "python",
   "nbconvert_exporter": "python",
   "pygments_lexer": "ipython3",
   "version": "3.6.4"
  }
 },
 "nbformat": 4,
 "nbformat_minor": 2
}
