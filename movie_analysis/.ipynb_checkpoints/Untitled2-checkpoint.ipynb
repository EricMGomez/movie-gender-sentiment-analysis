{
 "cells": [
  {
   "cell_type": "code",
   "execution_count": null,
   "metadata": {},
   "outputs": [],
   "source": [
    "import pandas as pd\n",
    "import numpy as np\n",
    "import json\n",
    "import matplotlib\n",
    "import matplotlib.pyplot as plt\n",
    "import diversity_score_module as dsm\n",
    "\n",
    "#setup\n",
    "df = pd.read_csv('data/raw_data/tmdb_5000_credits.csv') #load dataset\n",
    "#div_scores = np.zeros(len(df.index)) #initalize scores\n",
    "#cast_sizes = np.zeros(len(df.index), dtype=int) #initialize case sizes\n",
    "wanttoweight = True #do you want to weight lead roles?\n",
    "\n",
    "#compute scores for all moves\n",
    "for m in df.index: #loop over all movies\n",
    "    cast = json.loads(df['cast'][m]) #extract cast from dataset\n",
    "    [ds,cs] = dsm.compute_diversity_score(cast,wanttoweight)\n",
    "    #div_scores[m] = ds\n",
    "    #cast_sizes[m] = cs"
   ]
  },
  {
   "cell_type": "code",
   "execution_count": null,
   "metadata": {},
   "outputs": [],
   "source": [
    "type(wanttoweight)"
   ]
  },
  {
   "cell_type": "code",
   "execution_count": null,
   "metadata": {},
   "outputs": [],
   "source": []
  }
 ],
 "metadata": {
  "kernelspec": {
   "display_name": "Python 3",
   "language": "python",
   "name": "python3"
  },
  "language_info": {
   "codemirror_mode": {
    "name": "ipython",
    "version": 3
   },
   "file_extension": ".py",
   "mimetype": "text/x-python",
   "name": "python",
   "nbconvert_exporter": "python",
   "pygments_lexer": "ipython3",
   "version": "3.6.4"
  }
 },
 "nbformat": 4,
 "nbformat_minor": 2
}
